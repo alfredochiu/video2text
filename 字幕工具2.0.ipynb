{
 "cells": [
  {
   "cell_type": "code",
   "execution_count": null,
   "metadata": {},
   "outputs": [],
   "source": [
    "from SRTmodel import video2text_basic, long_speech_recognition_extra_function, auto_generate_subtitle_preprocessing, auto_generate_subtitle,punctuation_auto_generate_subtitle_preprocessing,punctuation_auto_generate_subtitle_second_adj,move_file, auto_generate_subtitle_NashVersion"
   ]
  },
  {
   "cell_type": "markdown",
   "metadata": {},
   "source": [
    "***"
   ]
  },
  {
   "cell_type": "markdown",
   "metadata": {},
   "source": [
    "# 將所有影片（在影片的folder）進行辨識"
   ]
  },
  {
   "cell_type": "code",
   "execution_count": null,
   "metadata": {},
   "outputs": [],
   "source": [
    "os.listdir('影片')"
   ]
  },
  {
   "cell_type": "code",
   "execution_count": null,
   "metadata": {},
   "outputs": [],
   "source": [
    "folder = '影片'\n",
    "\n",
    "video_list = [i for i in os.listdir(folder) if 'mp4' in i]\n",
    "video_list\n"
   ]
  },
  {
   "cell_type": "code",
   "execution_count": null,
   "metadata": {},
   "outputs": [],
   "source": [
    "\n"
   ]
  },
  {
   "cell_type": "code",
   "execution_count": null,
   "metadata": {
    "tags": []
   },
   "outputs": [],
   "source": [
    "folder = '影片'\n",
    "\n",
    "video_list = [i for i in os.listdir(folder) if 'mp4' in i]\n",
    "\n",
    "for i in video_list:\n",
    "    # 要先指定folder\n",
    "\n",
    "    # 要給影片名稱\n",
    "    video = i\n",
    "    video = video.split('.mp4')[0]\n",
    "\n",
    "    # 從「影片」轉換「音檔」\n",
    "    #video2text_basic(video =folder+'//'+ video)\n",
    "\n",
    "    # 語音辨識\n",
    "    from google.cloud import storage\n",
    "    client = storage.Client.from_service_account_json(\"howard.json\")\n",
    "    response = long_speech_recognition_extra_function(\n",
    "                            \n",
    "                            # 環境參數設定\n",
    "                            json = 'howard.json', \n",
    "                            speech_path =  os.getcwd() +'//'+ folder+'//' +video+'.wav' ,\n",
    "\n",
    "                            # 音檔設定\n",
    "                            sample_rate_hertz = 48000, \n",
    "                            language_code = \"cmn-Hant-TW\", \n",
    "                            bucket_name = 'howardewrewre',\n",
    "                            destination_blob_name = video+ '.wav',\n",
    "                            audio_type='WAV',\n",
    "                            \n",
    "                            # 辨識功能\n",
    "                            enable_word_confidence = True,\n",
    "                            enable_word_time_offsets= True,\n",
    "                            enable_automatic_punctuation= True,\n",
    "                            \n",
    "                            # 區分說話人員\n",
    "                            enable_speaker_diarization=False,\n",
    "                            audio_channel_count = 1,\n",
    "                            diarization_speaker_count=2,\n",
    "\n",
    "                            # 音檔修改專用\n",
    "                            speech_contexts = [''] ,\n",
    "                            \n",
    "                            # 產出文件\n",
    "                            enable_docx = True,\n",
    "                            enable_xlsx = True,\n",
    "                            enable_wordcloud = True\n",
    "\n",
    "                            \n",
    "                            )\n",
    "\n",
    "    # 首先找出word_table\n",
    "    word_table, auto_select_range = auto_generate_subtitle_preprocessing(response=response, sec_split = 2)\n",
    "\n",
    "    # 句讀切割\n",
    "    new_word_table, auto_select_range = punctuation_auto_generate_subtitle_preprocessing(response=response, word_table=word_table)\n",
    "\n",
    "    # 句讀 + 秒數切割\n",
    "    # 本處的sec代表句讀太長的字句超過多少秒要執行切分\n",
    "    # 這邊預設5秒\n",
    "    new_word_table, auto_select_range = punctuation_auto_generate_subtitle_second_adj(new_word_table = new_word_table, sec = 5)\n",
    "\n",
    "    # 如果最後一個標點符號是「，」，則會被辨識成cut，但是這是不對的，所以若最後一個 == cut\n",
    "    # 我就要將它變回「no」\n",
    "    if new_word_table['cut_para'].iloc[-1] == 'cut':\n",
    "        new_word_table['cut_para'].iloc[-1] = 'no'\n",
    "        auto_select_range = auto_select_range[:-1]    \n",
    "        \n",
    "    # 產出字幕\n",
    "    srt_list = auto_generate_subtitle(word_table = new_word_table, auto_select_range = auto_select_range, video = video + '_句讀與秒數切割')\n",
    "\n",
    "    move_file(dectect_name = video, folder_name = video)"
   ]
  },
  {
   "cell_type": "code",
   "execution_count": null,
   "metadata": {},
   "outputs": [],
   "source": []
  }
 ],
 "metadata": {
  "interpreter": {
   "hash": "5d87b42201e74ac320bc00dce267d44f5f134edfec9046f67f672f289707ff6a"
  },
  "kernelspec": {
   "display_name": "Python 3.7.9 64-bit",
   "language": "python",
   "name": "python3"
  },
  "language_info": {
   "codemirror_mode": {
    "name": "ipython",
    "version": 3
   },
   "file_extension": ".py",
   "mimetype": "text/x-python",
   "name": "python",
   "nbconvert_exporter": "python",
   "pygments_lexer": "ipython3",
   "version": "3.7.3"
  },
  "metadata": {
   "interpreter": {
    "hash": "5d87b42201e74ac320bc00dce267d44f5f134edfec9046f67f672f289707ff6a"
   }
  },
  "orig_nbformat": 2
 },
 "nbformat": 4,
 "nbformat_minor": 2
}
